{
 "cells": [
  {
   "cell_type": "markdown",
   "id": "8c8402ae",
   "metadata": {},
   "source": [
    "**Test for reading a single nanoDQMIO file directly from DAS and extracting histograms in a meaningful way**  \n",
    "Note: with inspiration from here: https://github.com/cms-DQM/ML4DQM-DC_SharedTools/tree/master/dqmio"
   ]
  },
  {
   "cell_type": "code",
   "execution_count": null,
   "id": "00500980",
   "metadata": {},
   "outputs": [],
   "source": [
    "### imports\n",
    "\n",
    "import os\n",
    "import sys\n",
    "import numpy as np\n",
    "import matplotlib.pyplot as plt\n",
    "sys.path.append('../src')\n",
    "import DQMIOReader\n",
    "import importlib\n",
    "importlib.reload(DQMIOReader)"
   ]
  },
  {
   "cell_type": "code",
   "execution_count": null,
   "id": "927fb356",
   "metadata": {},
   "outputs": [],
   "source": [
    "### get a file name from DAS using the client\n",
    "# (not yet working, probably das client not installed)\n",
    "\n",
    "#datasetname = '/MinimumBias/Commissioning2021-900GeVmkFit-v2/DQMIO'\n",
    "#dascmd = \"dasgoclient -query 'file dataset={}' --limit 0\".format(datasetname)\n",
    "#os.system(dascmd)"
   ]
  },
  {
   "cell_type": "code",
   "execution_count": null,
   "id": "9160ac02",
   "metadata": {},
   "outputs": [],
   "source": [
    "### alternatively: define a file name from DAS manually\n",
    "# (not yet working, probably need credentials and proxy)\n",
    "\n",
    "#filename = '/store/data/Commissioning2021/MinimumBias/DQMIO/900GeVmkFit-v2/2810000/7C3F0F68-7951-11EC-A715-77D09A83BEEF.root'\n",
    "#prefix = 'root://cms-xrd-global.cern.ch/'\n",
    "#filename = prefix+filename"
   ]
  },
  {
   "cell_type": "code",
   "execution_count": null,
   "id": "d4e98584",
   "metadata": {},
   "outputs": [],
   "source": [
    "### alternatively: define a local file\n",
    "# (e.g. manual download from DAS on a system with credentials and proxy, then upload here)\n",
    "\n",
    "filename = 'examplefile_nanoDQMIO_20220203.root'\n",
    "#filename = '/eos/home-l/llambrec/Documents/ML4DQM-DC/temp_input_files_nanodqmio/examplefile_nanoDQMIO_store_data_Commissioning2021_MinimumBias_DQMIO_900GeVmkFit-v2_2810000_7C3F0F68-7951-11EC-A715-77D09A83BEEF.root'\n",
    "#filename = '/eos/home-l/llambrec/Documents/ML4DQM-DC/temp_input_files_nanodqmio/examplefile_nanoDQMIO_store_data_Commissioning2021_MinimumBias_DQMIO_900GeVmkFit-v2_80000_03C9A2CC-607F-11EC-BBA5-0421A8C0BEEF.root'"
   ]
  },
  {
   "cell_type": "code",
   "execution_count": null,
   "id": "9e935e4a",
   "metadata": {},
   "outputs": [],
   "source": [
    "### read the file\n",
    "\n",
    "reader = DQMIOReader.DQMIOReader(filename)"
   ]
  },
  {
   "cell_type": "code",
   "execution_count": null,
   "id": "46ad928d",
   "metadata": {},
   "outputs": [],
   "source": [
    "### print the index (for internal testing, normally not needed)\n",
    "\n",
    "rindex = reader.index\n",
    "for key, val in rindex.items():\n",
    "    # key is a tuple of (run number, lumisection number)\n",
    "    # val is a list of IndexEntries (see DQMIOReader for details)\n",
    "    print(key)\n",
    "    for el in val: print('  '+str(el))"
   ]
  },
  {
   "cell_type": "code",
   "execution_count": null,
   "id": "e026e17e",
   "metadata": {},
   "outputs": [],
   "source": [
    "### print all available monitoring elements\n",
    "\n",
    "melist = reader.melist\n",
    "print('Available histograms ({}):'.format(len(melist.keys())))\n",
    "for me,tp in melist.items(): print('- {} (type {})'.format(me,DQMIOReader.DQMIOReader.getMEType(tp)))"
   ]
  },
  {
   "cell_type": "code",
   "execution_count": null,
   "id": "2512cb26",
   "metadata": {},
   "outputs": [],
   "source": [
    "### print all available lumisections\n",
    "\n",
    "runsls = reader.listLumis()\n",
    "print('Available lumisections: ({})'.format(len(runsls)))\n",
    "for runls in runsls: print('- Run {}, LS {}'.format(runls[0],runls[1]))"
   ]
  },
  {
   "cell_type": "code",
   "execution_count": null,
   "id": "e4be499b",
   "metadata": {},
   "outputs": [],
   "source": [
    "### retrieve all instances of a given histogram type\n",
    "\n",
    "histname = 'PixelPhase1/Tracks/PXBarrel/chargeInner_PXLayer_1'\n",
    "mes = reader.getSingleMEs(histname)\n",
    "for me in mes: print(me)"
   ]
  },
  {
   "cell_type": "code",
   "execution_count": null,
   "id": "0856c991",
   "metadata": {},
   "outputs": [],
   "source": [
    "### retrieve all instances of a collection of histogram types\n",
    "\n",
    "histname = 'PixelPhase1/Tracks/PXBarrel/chargeInner_PXLayer_?'\n",
    "mes = reader.getMEs(histname)\n",
    "for me in mes: print(me)"
   ]
  },
  {
   "cell_type": "code",
   "execution_count": null,
   "id": "f3254912",
   "metadata": {},
   "outputs": [],
   "source": [
    "### plot a histogram\n",
    "\n",
    "histname = 'PixelPhase1/Tracks/PXBarrel/chargeInner_PXLayer_1'\n",
    "lumi = (346448,1)\n",
    "me = reader.getSingleMEForLumi(lumi,histname)\n",
    "hist = me.data\n",
    "histarray = np.zeros(hist.GetNbinsX()+2)\n",
    "for i in range(0,hist.GetNbinsX()+2):\n",
    "    histarray[i] = hist.GetBinContent(i)\n",
    "fig,ax = plt.subplots()\n",
    "ax.plot(histarray)"
   ]
  },
  {
   "cell_type": "code",
   "execution_count": null,
   "id": "ba50c27a",
   "metadata": {},
   "outputs": [],
   "source": [
    "### plot multiple histograms\n",
    "\n",
    "histname = 'PixelPhase1/Tracks/PXBarrel/chargeInner_PXLayer_1'\n",
    "mes = reader.getSingleMEs(histname)\n",
    "histarray = np.zeros((len(mes),mes[0].data.GetNbinsX()+2))\n",
    "for i,me in enumerate(mes):\n",
    "    for j in range(0,me.data.GetNbinsX()+2):\n",
    "        histarray[i,j] = me.data.GetBinContent(j)\n",
    "fig,ax = plt.subplots()\n",
    "for hist in histarray: ax.plot(hist)"
   ]
  },
  {
   "cell_type": "code",
   "execution_count": null,
   "id": "da1d8d90",
   "metadata": {},
   "outputs": [],
   "source": []
  }
 ],
 "metadata": {
  "kernelspec": {
   "display_name": "Python 3",
   "language": "python",
   "name": "python3"
  },
  "language_info": {
   "codemirror_mode": {
    "name": "ipython",
    "version": 3
   },
   "file_extension": ".py",
   "mimetype": "text/x-python",
   "name": "python",
   "nbconvert_exporter": "python",
   "pygments_lexer": "ipython3",
   "version": "3.9.12"
  }
 },
 "nbformat": 4,
 "nbformat_minor": 5
}
