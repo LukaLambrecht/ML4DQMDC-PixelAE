{
 "cells": [
  {
   "cell_type": "markdown",
   "id": "incoming-concept",
   "metadata": {},
   "source": [
    "**Some examples on how to use the OMS API**  \n",
    "\n",
    "The following topics are covered:  \n",
    "- creating an OMS API instance\n",
    "- get all available information per run or for a given range of runs\n",
    "- get all available information per lumisection\n",
    "- select specific data fields to retrieve\n",
    "- get L1 and HLT trigger rates"
   ]
  },
  {
   "cell_type": "code",
   "execution_count": null,
   "id": "czech-sixth",
   "metadata": {},
   "outputs": [],
   "source": [
    "### imports\n",
    "\n",
    "# external modules\n",
    "import matplotlib.pyplot as plt\n",
    "import importlib\n",
    "\n",
    "# local modules\n",
    "import get_oms_data\n",
    "importlib.reload(get_oms_data)\n",
    "from get_oms_data import get_oms_api, get_oms_data, get_oms_response_attribute"
   ]
  },
  {
   "cell_type": "code",
   "execution_count": null,
   "id": "acoustic-oxide",
   "metadata": {},
   "outputs": [],
   "source": [
    "# get the omsapi instance\n",
    "\n",
    "omsapi = get_oms_api()"
   ]
  },
  {
   "cell_type": "code",
   "execution_count": null,
   "id": "decent-issue",
   "metadata": {},
   "outputs": [],
   "source": [
    "# example: get run information for a single run\n",
    "\n",
    "runnb = 297050\n",
    "run_info = get_oms_data( omsapi, 'runs', runnb=runnb )\n",
    "print(run_info)"
   ]
  },
  {
   "cell_type": "code",
   "execution_count": null,
   "id": "convertible-lawrence",
   "metadata": {},
   "outputs": [],
   "source": [
    "# example: get only specific info for a single run\n",
    "\n",
    "runnb = 297050\n",
    "run_info_spec = get_oms_data( omsapi, 'runs', runnb=runnb, attributes=['l1_rate','l1_menu'] )\n",
    "print(run_info_spec)\n",
    "print(run_info_spec['data'])\n",
    "print(run_info_spec['data'][0]['attributes'])"
   ]
  },
  {
   "cell_type": "code",
   "execution_count": null,
   "id": "destroyed-curve",
   "metadata": {},
   "outputs": [],
   "source": [
    "# example: get specific run information for multiple runs\n",
    "\n",
    "runnb = (297050,297056)\n",
    "run_info_mult = get_oms_data( omsapi, 'runs', runnb=runnb, attributes=['l1_rate','l1_menu'] )\n",
    "print(run_info_mult)\n",
    "l1_rate = get_oms_response_attribute( run_info_mult, 'l1_rate' )\n",
    "print(l1_rate)"
   ]
  },
  {
   "cell_type": "code",
   "execution_count": null,
   "id": "young-adrian",
   "metadata": {},
   "outputs": [],
   "source": [
    "### example: get available information per lumisection\n",
    "\n",
    "runnb = 297050\n",
    "lsfilter = {'attribute_name':'lumisection_number','value':1,'operator':'EQ'}\n",
    "ls_info = get_oms_data( omsapi, 'lumisections', runnb=runnb, extrafilters=[lsfilter] )\n",
    "attrs = ls_info['data'][0]['attributes']\n",
    "for key,val in attrs.items():\n",
    "    print('{} -> {}'.format(key,val))"
   ]
  },
  {
   "cell_type": "code",
   "execution_count": null,
   "id": "british-death",
   "metadata": {},
   "outputs": [],
   "source": [
    "# example: get pileup and luminosity information per lumisection\n",
    "\n",
    "'''runnb = 297050\n",
    "ls_info = get_oms_data( omsapi, 'lumisections', runnb, attributes=['lumisection_number','pileup','delivered_lumi','recorded_lumi'] )\n",
    "#print(ls_info)\n",
    "ls_nbs = get_oms_response_attribute(ls_info,'lumisection_number')\n",
    "pileup = get_oms_response_attribute(ls_info,'pileup')\n",
    "del_lumi = get_oms_response_attribute(ls_info,'delivered_lumi')\n",
    "rec_lumi = get_oms_response_attribute(ls_info,'recorded_lumi')\n",
    "\n",
    "plt.figure()\n",
    "plt.plot(ls_nbs,pileup)\n",
    "plt.figure()\n",
    "plt.plot(ls_nbs,del_lumi,color='b')\n",
    "plt.plot(ls_nbs,rec_lumi,color='g') '''\n",
    "\n",
    "# temporary test: tuple of run numbers seems to not work (anymore)\n",
    "# preliminary conclusion: this is not a change on my side, but a change in the API itself.\n",
    "#                         need to get confirmation -> sent mail to oms developers\n",
    "#                         JIRA ticket created\n",
    "#                         fixed now on the API side -> indeed seems to work now.\n",
    "runnb = (315190,315290)\n",
    "attributes = ['fill_number','run_number','lumisection_number']\n",
    "ls_info = get_oms_data( omsapi, 'lumisections', runnb=runnb, attributes=attributes )\n",
    "print(ls_info)"
   ]
  },
  {
   "cell_type": "code",
   "execution_count": null,
   "id": "returning-swaziland",
   "metadata": {},
   "outputs": [],
   "source": [
    "### example: get L1 trigger rate per lumisection\n",
    "\n",
    "import numpy as np\n",
    "\n",
    "runnb = 297050\n",
    "#lsfilter = {'attribute_name':'lumisection_number','value':10,'operator':'LT'}\n",
    "ls_info = get_oms_data( omsapi, 'l1triggerrates', runnb=runnb, extraargs={'group[granularity]':'lumisection'} )\n",
    "#print(ls_info)\n",
    "attrs = ls_info['data'][0]['attributes']\n",
    "for attr in attrs: print('{} -> {}'.format(attr,attrs[attr]))\n",
    "lsnbs = get_oms_response_attribute(ls_info,'first_lumisection_number')\n",
    "l1_rate = get_oms_response_attribute(ls_info,'l1a_physics')\n",
    "l1_rate = [el['rate'] for el in l1_rate]\n",
    "#print(l1_rate)\n",
    "print(np.mean(l1_rate))\n",
    "plt.figure()\n",
    "plt.plot(lsnbs,l1_rate)"
   ]
  },
  {
   "cell_type": "code",
   "execution_count": null,
   "id": "ahead-evans",
   "metadata": {},
   "outputs": [],
   "source": [
    "### example: get HLT trigger rate per lumisection\n",
    "\n",
    "runnb = 297050\n",
    "ls_info = get_oms_data( omsapi, 'hltpathinfo', runnb=runnb, attributes=['run_number','path_name'] )\n",
    "#print(ls_info)\n",
    "print('available path names:')\n",
    "print(get_oms_response_attribute(ls_info,'path_name'))\n",
    "\n",
    "path_filter = {'attribute_name':'path_name','value':'HLT_ZeroBias_v5','operator':'EQ'}\n",
    "ls_info = get_oms_data( omsapi, 'hltpathrates', runnb=runnb, extraargs={'group[granularity]':'lumisection'}, extrafilters=[path_filter] )\n",
    "#print(ls_info)\n",
    "lsnbs = get_oms_response_attribute(ls_info,'first_lumisection_number')\n",
    "hlt_rate = get_oms_response_attribute(ls_info,'rate')\n",
    "#print(hlt_rate)\n",
    "plt.figure()\n",
    "plt.plot(lsnbs,hlt_rate)"
   ]
  },
  {
   "cell_type": "code",
   "execution_count": null,
   "id": "sharp-arkansas",
   "metadata": {},
   "outputs": [],
   "source": [
    "### example: check if 'cms_active' attribute is same as DCS-json\n",
    "\n",
    "import os\n",
    "import sys\n",
    "sys.path.append(os.path.abspath('../utils/'))\n",
    "import json_utils as jsonu\n",
    "import plot_utils as pu\n",
    "\n",
    "runnb = 306458\n",
    "ls_info = get_oms_data( omsapi, 'lumisections', runnb=runnb, attributes=['lumisection_number','cms_active'] )\n",
    "lsnbs = get_oms_response_attribute(ls_info,'lumisection_number')\n",
    "cms_active = get_oms_response_attribute(ls_info,'cms_active')\n",
    "print(cms_active)\n",
    "runnbs = [runnb]*len(lsnbs)\n",
    "dcson = jsonu.isdcson( runnbs, lsnbs )\n",
    "print(dcson)\n",
    "pu.plot_hists([cms_active],colorlist=['blue'], labellist=['cms active'],\n",
    "              xaxtitle='lumisection number', yaxtitle=None, bkgcolor=dcson, bkgcmap='cool')"
   ]
  },
  {
   "cell_type": "code",
   "execution_count": null,
   "id": "wrong-survey",
   "metadata": {},
   "outputs": [],
   "source": []
  }
 ],
 "metadata": {
  "@webio": {
   "lastCommId": null,
   "lastKernelId": null
  },
  "kernelspec": {
   "display_name": "Python 3",
   "language": "python",
   "name": "python3"
  },
  "language_info": {
   "codemirror_mode": {
    "name": "ipython",
    "version": 3
   },
   "file_extension": ".py",
   "mimetype": "text/x-python",
   "name": "python",
   "nbconvert_exporter": "python",
   "pygments_lexer": "ipython3",
   "version": "3.9.12"
  }
 },
 "nbformat": 4,
 "nbformat_minor": 5
}
