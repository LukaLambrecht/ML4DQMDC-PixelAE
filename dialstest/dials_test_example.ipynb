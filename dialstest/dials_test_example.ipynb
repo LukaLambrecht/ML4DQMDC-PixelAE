{
 "cells": [
  {
   "cell_type": "code",
   "execution_count": null,
   "id": "b14f0549",
   "metadata": {},
   "outputs": [],
   "source": [
    "# imports and authentication\n",
    "\n",
    "import pandas as pd\n",
    "from cmsdials.auth.bearer import Credentials\n",
    "from cmsdials import Dials\n",
    "from cmsdials.filters import LumisectionHistogram1DFilters\n",
    "from cmsdials.filters import LumisectionHistogram2DFilters\n",
    "from cmsdials.filters import RunFilters\n",
    "from cmsdials.filters import LumisectionFilters\n",
    "from cmsdials.filters import MEFilters\n",
    "\n",
    "creds = Credentials.from_creds_file()\n",
    "dials = Dials(creds, workspace='tracker')"
   ]
  },
  {
   "cell_type": "code",
   "execution_count": null,
   "id": "a7c0a093",
   "metadata": {},
   "outputs": [],
   "source": [
    "# settings\n",
    "\n",
    "mename = 'PixelPhase1/Tracks/PXBarrel/charge_PXLayer_2'\n",
    "min_run = 367080 \n",
    "max_run = 367100"
   ]
  },
  {
   "cell_type": "code",
   "execution_count": null,
   "id": "e235879d",
   "metadata": {},
   "outputs": [],
   "source": [
    "# get some information on the runs\n",
    "# (not strictly needed for getting the MEs)\n",
    "\n",
    "data = dials.run.list_all(\n",
    "    RunFilters(run_number__gte=min_run, run_number__lte=max_run)\n",
    ")\n",
    "data.to_pandas()"
   ]
  },
  {
   "cell_type": "code",
   "execution_count": null,
   "id": "bc4ec0f0",
   "metadata": {},
   "outputs": [],
   "source": [
    "# get the MEs\n",
    "\n",
    "data = dials.h1d.list_all(\n",
    "    LumisectionHistogram1DFilters(\n",
    "        me=mename,\n",
    "        run_number__gte=min_run,\n",
    "        run_number__lte=max_run\n",
    "    ),\n",
    "    enable_progress=True,\n",
    "    max_pages=1\n",
    ")\n",
    "data = data.to_pandas()\n",
    "data"
   ]
  },
  {
   "cell_type": "code",
   "execution_count": null,
   "id": "56e9c452",
   "metadata": {},
   "outputs": [],
   "source": [
    "# examples of all clients\n",
    "\n",
    "# run\n",
    "data = dials.run.list_all(\n",
    "    RunFilters(\n",
    "        run_number__gte=381542,\n",
    "        run_number__lte=381544\n",
    "    )\n",
    ")\n",
    "print(data.to_pandas().head())\n",
    "\n",
    "# lumisection\n",
    "data = dials.lumi.list_all(\n",
    "    LumisectionFilters(\n",
    "        run_number=381542\n",
    "    )\n",
    ")\n",
    "print(data.to_pandas().head())\n",
    "\n",
    "# MEs\n",
    "data = dials.mes.list_all(\n",
    "    MEFilters(\n",
    "        me__regex='PixelPhase1/Tracks/PXBarrel/charge_PXLayer_*'\n",
    "    )\n",
    ")\n",
    "print([el.me for el in data])\n",
    "\n",
    "# h1d\n",
    "data = dials.h1d.list_all(\n",
    "    LumisectionHistogram1DFilters(\n",
    "        me='PixelPhase1/Tracks/PXBarrel/charge_PXLayer_2',\n",
    "        dataset='/StreamExpress/Run2024E-Express-v1/DQMIO',\n",
    "        run_number=381542\n",
    "    ),\n",
    ")\n",
    "print(data.to_pandas().head())\n",
    "\n",
    "# h2d\n",
    "data = dials.h2d.list_all(\n",
    "    LumisectionHistogram2DFilters(\n",
    "        me__regex='PixelPhase1/.*/digi_occupancy_.*_PXLayer_[1234]',\n",
    "        dataset='/StreamExpress/Run2024E-Express-v1/DQMIO',\n",
    "        run_number=381542\n",
    "    ),\n",
    ")\n",
    "print(data.to_pandas().head())"
   ]
  }
 ],
 "metadata": {
  "@webio": {
   "lastCommId": null,
   "lastKernelId": null
  },
  "kernelspec": {
   "display_name": "Python 3",
   "language": "python",
   "name": "python3"
  },
  "language_info": {
   "codemirror_mode": {
    "name": "ipython",
    "version": 3
   },
   "file_extension": ".py",
   "mimetype": "text/x-python",
   "name": "python",
   "nbconvert_exporter": "python",
   "pygments_lexer": "ipython3",
   "version": "3.9.12"
  }
 },
 "nbformat": 4,
 "nbformat_minor": 5
}
