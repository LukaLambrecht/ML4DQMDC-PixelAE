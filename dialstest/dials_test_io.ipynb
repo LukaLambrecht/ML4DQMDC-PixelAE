{
 "cells": [
  {
   "cell_type": "code",
   "execution_count": null,
   "id": "c9305599",
   "metadata": {},
   "outputs": [],
   "source": [
    "# imports and authentication\n",
    "\n",
    "import pandas\n",
    "from cmsdials.auth.bearer import Credentials\n",
    "from cmsdials import Dials\n",
    "from cmsdials.filters import LumisectionHistogram1DFilters\n",
    "from cmsdials.filters import LumisectionHistogram2DFilters\n",
    "from cmsdials.filters import RunFilters\n",
    "from cmsdials.filters import LumisectionFilters\n",
    "from cmsdials.filters import MEFilters\n",
    "\n",
    "creds = Credentials.from_creds_file()\n",
    "dials = Dials(creds, workspace='tracker')"
   ]
  },
  {
   "cell_type": "code",
   "execution_count": null,
   "id": "62e4125f",
   "metadata": {},
   "outputs": [],
   "source": [
    "# get the data\n",
    "\n",
    "data = dials.h1d.list_all(\n",
    "    LumisectionHistogram1DFilters(\n",
    "        me='PixelPhase1/Tracks/PXBarrel/charge_PXLayer_2',\n",
    "        dataset='/StreamExpress/Run2024E-Express-v1/DQMIO',\n",
    "        run_number=381542\n",
    "    ),\n",
    ")\n",
    "data = data.to_pandas()\n",
    "data.head()"
   ]
  },
  {
   "cell_type": "code",
   "execution_count": null,
   "id": "bd7e7223",
   "metadata": {},
   "outputs": [],
   "source": [
    "# store the data\n",
    "\n",
    "data.to_parquet('test.parquet')"
   ]
  },
  {
   "cell_type": "code",
   "execution_count": null,
   "id": "24f8c478",
   "metadata": {},
   "outputs": [],
   "source": [
    "# read the data\n",
    "\n",
    "data = pandas.read_parquet('test.parquet')\n",
    "data.head()"
   ]
  },
  {
   "cell_type": "code",
   "execution_count": null,
   "id": "4c61ca76",
   "metadata": {},
   "outputs": [],
   "source": [
    "# read a part of the input data\n",
    "# (only some columns)\n",
    "\n",
    "data = pandas.read_parquet(\n",
    "  'test.parquet',\n",
    "  columns=['run_number', 'ls_number']\n",
    ")\n",
    "data.head()"
   ]
  },
  {
   "cell_type": "code",
   "execution_count": null,
   "id": "eb580855",
   "metadata": {},
   "outputs": [],
   "source": [
    "# read a part of the input data\n",
    "# (only some rows)\n",
    "\n",
    "from pyarrow.parquet import ParquetFile\n",
    "import pyarrow as pa\n",
    "\n",
    "pf = ParquetFile('test.parquet') \n",
    "batch = next(pf.iter_batches(batch_size = 3)) \n",
    "data = pa.Table.from_batches([batch]).to_pandas() \n",
    "data.head()"
   ]
  },
  {
   "cell_type": "code",
   "execution_count": null,
   "id": "9251085d",
   "metadata": {},
   "outputs": [],
   "source": []
  }
 ],
 "metadata": {
  "@webio": {
   "lastCommId": null,
   "lastKernelId": null
  },
  "kernelspec": {
   "display_name": "Python 3",
   "language": "python",
   "name": "python3"
  },
  "language_info": {
   "codemirror_mode": {
    "name": "ipython",
    "version": 3
   },
   "file_extension": ".py",
   "mimetype": "text/x-python",
   "name": "python",
   "nbconvert_exporter": "python",
   "pygments_lexer": "ipython3",
   "version": "3.9.12"
  }
 },
 "nbformat": 4,
 "nbformat_minor": 5
}
