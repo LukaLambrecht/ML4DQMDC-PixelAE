{
 "cells": [
  {
   "cell_type": "code",
   "execution_count": null,
   "id": "126070bd",
   "metadata": {},
   "outputs": [],
   "source": [
    "# install cmsdials (only need to run once)\n",
    "!pip install --user cmsdials"
   ]
  },
  {
   "cell_type": "code",
   "execution_count": null,
   "id": "d80d96a9",
   "metadata": {},
   "outputs": [],
   "source": [
    "# show if installation was successful\n",
    "!pip show cmsdials"
   ]
  },
  {
   "cell_type": "code",
   "execution_count": null,
   "id": "dad28902",
   "metadata": {},
   "outputs": [],
   "source": [
    "# imports\n",
    "\n",
    "import pandas as pd\n",
    "from cmsdials import Dials\n",
    "from cmsdials.auth.bearer import Credentials\n",
    "from cmsdials.filters import LumisectionHistogram1DFilters\n",
    "from cmsdials.filters import RunFilters"
   ]
  },
  {
   "cell_type": "code",
   "execution_count": null,
   "id": "3558f150",
   "metadata": {},
   "outputs": [],
   "source": [
    "# get credentials\n",
    "creds = Credentials.from_creds_file()"
   ]
  },
  {
   "cell_type": "code",
   "execution_count": null,
   "id": "301591e0",
   "metadata": {},
   "outputs": [],
   "source": [
    "# make a Dials instances\n",
    "dials = Dials(creds, nthreads=1)"
   ]
  },
  {
   "cell_type": "code",
   "execution_count": null,
   "id": "1e590c7e",
   "metadata": {},
   "outputs": [],
   "source": [
    "# get a monitoring element within specified run ranges\n",
    "\n",
    "mename = 'PixelPhase1/Tracks/PXBarrel/charge_PXLayer_2'\n",
    "min_run = 367080 \n",
    "max_run = 367100\n",
    "\n",
    "data = dials.h1d.list_all(\n",
    "    LumisectionHistogram1DFilters(title=mename, min_run_number=min_run, max_run_number=max_run)\n",
    ")"
   ]
  },
  {
   "cell_type": "code",
   "execution_count": null,
   "id": "16d62870",
   "metadata": {},
   "outputs": [],
   "source": [
    "# convert to dataframe\n",
    "\n",
    "df = pd.DataFrame([hist.__dict__ for hist in data.results])\n",
    "df.sort_values(['run_number','ls_number'], inplace=True)"
   ]
  },
  {
   "cell_type": "code",
   "execution_count": null,
   "id": "c8099518",
   "metadata": {},
   "outputs": [],
   "source": [
    "df"
   ]
  },
  {
   "cell_type": "code",
   "execution_count": null,
   "id": "db377d2a",
   "metadata": {},
   "outputs": [],
   "source": [
    "# some lumisections seem to be missing.\n",
    "# example: for run 360075 we get lumisection 116, 117, 161, 193, 194, ...\n",
    "# OMS shows no immediately apparent reason for the missing of these large chunks of lumisections.\n",
    "# however, run 360075 belongs to 2022 data taking, for which the nanoDQMIO production had some issues.\n",
    "\n",
    "# check again for some runs from 2023 data taking with per-LS DQMIO -> seems to be better."
   ]
  }
 ],
 "metadata": {
  "@webio": {
   "lastCommId": null,
   "lastKernelId": null
  },
  "kernelspec": {
   "display_name": "Python 3",
   "language": "python",
   "name": "python3"
  },
  "language_info": {
   "codemirror_mode": {
    "name": "ipython",
    "version": 3
   },
   "file_extension": ".py",
   "mimetype": "text/x-python",
   "name": "python",
   "nbconvert_exporter": "python",
   "pygments_lexer": "ipython3",
   "version": "3.9.12"
  }
 },
 "nbformat": 4,
 "nbformat_minor": 5
}
