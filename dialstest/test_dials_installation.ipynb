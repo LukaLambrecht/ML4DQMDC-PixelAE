{
 "cells": [
  {
   "cell_type": "code",
   "execution_count": null,
   "id": "126070bd",
   "metadata": {},
   "outputs": [],
   "source": [
    "# install cmsdials (only need to run once)\n",
    "!pip install --user cmsdials[pandas,tqdm]"
   ]
  },
  {
   "cell_type": "code",
   "execution_count": null,
   "id": "d80d96a9",
   "metadata": {},
   "outputs": [],
   "source": [
    "# show if installation was successful\n",
    "!pip show cmsdials"
   ]
  },
  {
   "cell_type": "code",
   "execution_count": null,
   "id": "9aaefd92",
   "metadata": {},
   "outputs": [],
   "source": [
    "# show location of installed module\n",
    "import cmsdials\n",
    "print(cmsdials.__file__)\n",
    "import sys\n",
    "print(sys.path)"
   ]
  }
 ],
 "metadata": {
  "@webio": {
   "lastCommId": null,
   "lastKernelId": null
  },
  "kernelspec": {
   "display_name": "Python 3",
   "language": "python",
   "name": "python3"
  },
  "language_info": {
   "codemirror_mode": {
    "name": "ipython",
    "version": 3
   },
   "file_extension": ".py",
   "mimetype": "text/x-python",
   "name": "python",
   "nbconvert_exporter": "python",
   "pygments_lexer": "ipython3",
   "version": "3.9.12"
  }
 },
 "nbformat": 4,
 "nbformat_minor": 5
}
