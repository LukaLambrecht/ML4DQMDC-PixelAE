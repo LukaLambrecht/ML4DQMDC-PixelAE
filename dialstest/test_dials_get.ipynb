{
 "cells": [
  {
   "cell_type": "code",
   "execution_count": null,
   "id": "88da5b1e",
   "metadata": {},
   "outputs": [],
   "source": [
    "# imports and authentication\n",
    "\n",
    "from cmsdials.auth.bearer import Credentials\n",
    "from cmsdials import Dials\n",
    "\n",
    "creds = Credentials.from_creds_file()\n",
    "dials = Dials(creds, workspace='tracker')"
   ]
  },
  {
   "cell_type": "code",
   "execution_count": null,
   "id": "4f6f83af",
   "metadata": {},
   "outputs": [],
   "source": [
    "# get a file from the index\n",
    "# note: all arguments are required!\n",
    "dials.file_index.get(dataset_id=14677060, file_id=3393809397)"
   ]
  },
  {
   "cell_type": "code",
   "execution_count": null,
   "id": "d8a6d6cb",
   "metadata": {},
   "outputs": [],
   "source": [
    "# get a 1D ME\n",
    "# note: all arguments are required!\n",
    "dials.h1d.get(dataset_id=14677060, run_number=367112, ls_number=10, me_id=1)"
   ]
  },
  {
   "cell_type": "code",
   "execution_count": null,
   "id": "8304c607",
   "metadata": {},
   "outputs": [],
   "source": [
    "# get a lumisection\n",
    "# note: all arguments are required!\n",
    "dials.lumi.get(dataset_id=14677060, run_number=367112, ls_number=10)"
   ]
  },
  {
   "cell_type": "code",
   "execution_count": null,
   "id": "0c200af3",
   "metadata": {},
   "outputs": [],
   "source": [
    "# get a run\n",
    "# note: all arguments are required!\n",
    "dials.run.get(dataset_id=14677060, run_number=367112)"
   ]
  },
  {
   "cell_type": "code",
   "execution_count": null,
   "id": "dd0fc331",
   "metadata": {},
   "outputs": [],
   "source": []
  }
 ],
 "metadata": {
  "@webio": {
   "lastCommId": null,
   "lastKernelId": null
  },
  "kernelspec": {
   "display_name": "Python 3",
   "language": "python",
   "name": "python3"
  },
  "language_info": {
   "codemirror_mode": {
    "name": "ipython",
    "version": 3
   },
   "file_extension": ".py",
   "mimetype": "text/x-python",
   "name": "python",
   "nbconvert_exporter": "python",
   "pygments_lexer": "ipython3",
   "version": "3.9.12"
  }
 },
 "nbformat": 4,
 "nbformat_minor": 5
}
